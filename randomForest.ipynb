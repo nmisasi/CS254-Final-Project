{
 "cells": [
  {
   "cell_type": "code",
   "execution_count": 1,
   "id": "f22c9e61",
   "metadata": {},
   "outputs": [],
   "source": [
    "import os\n",
    "import numpy as np\n",
    "import pandas as pd"
   ]
  },
  {
   "cell_type": "code",
   "execution_count": 2,
   "id": "18c83a3e",
   "metadata": {},
   "outputs": [
    {
     "data": {
      "text/html": [
       "<div>\n",
       "<style scoped>\n",
       "    .dataframe tbody tr th:only-of-type {\n",
       "        vertical-align: middle;\n",
       "    }\n",
       "\n",
       "    .dataframe tbody tr th {\n",
       "        vertical-align: top;\n",
       "    }\n",
       "\n",
       "    .dataframe thead th {\n",
       "        text-align: right;\n",
       "    }\n",
       "</style>\n",
       "<table border=\"1\" class=\"dataframe\">\n",
       "  <thead>\n",
       "    <tr style=\"text-align: right;\">\n",
       "      <th></th>\n",
       "      <th>HomeTeam</th>\n",
       "      <th>AwayTeam</th>\n",
       "      <th>HomeGoals</th>\n",
       "      <th>AwayGoals</th>\n",
       "      <th>HomeXG</th>\n",
       "      <th>AwayXG</th>\n",
       "      <th>HomeShots</th>\n",
       "      <th>AwayShots</th>\n",
       "      <th>HomeCorners</th>\n",
       "      <th>AwayCorners</th>\n",
       "      <th>HomeSubs</th>\n",
       "      <th>AwaySubs</th>\n",
       "      <th>HomeYC</th>\n",
       "      <th>AwayYC</th>\n",
       "      <th>HomeRC</th>\n",
       "      <th>AwayRC</th>\n",
       "      <th>HomeResult</th>\n",
       "      <th>AwayResult</th>\n",
       "      <th>HomeLastGame</th>\n",
       "      <th>AwayLastGame</th>\n",
       "    </tr>\n",
       "  </thead>\n",
       "  <tbody>\n",
       "    <tr>\n",
       "      <th>0</th>\n",
       "      <td>Borussia Dortmund</td>\n",
       "      <td>Hamburg SV</td>\n",
       "      <td>3.0</td>\n",
       "      <td>1.0</td>\n",
       "      <td>1.8354</td>\n",
       "      <td>0.4050</td>\n",
       "      <td>13.0</td>\n",
       "      <td>4.0</td>\n",
       "      <td>7.0</td>\n",
       "      <td>7.0</td>\n",
       "      <td>3.0</td>\n",
       "      <td>3.0</td>\n",
       "      <td>1.0</td>\n",
       "      <td>3.0</td>\n",
       "      <td>0.0</td>\n",
       "      <td>0.0</td>\n",
       "      <td>2</td>\n",
       "      <td>0</td>\n",
       "      <td>0</td>\n",
       "      <td>0</td>\n",
       "    </tr>\n",
       "    <tr>\n",
       "      <th>1</th>\n",
       "      <td>FC Augsburg</td>\n",
       "      <td>SC Freiburg</td>\n",
       "      <td>2.0</td>\n",
       "      <td>2.0</td>\n",
       "      <td>1.6848</td>\n",
       "      <td>0.5423</td>\n",
       "      <td>10.0</td>\n",
       "      <td>6.0</td>\n",
       "      <td>5.0</td>\n",
       "      <td>4.0</td>\n",
       "      <td>3.0</td>\n",
       "      <td>2.0</td>\n",
       "      <td>2.0</td>\n",
       "      <td>4.0</td>\n",
       "      <td>0.0</td>\n",
       "      <td>0.0</td>\n",
       "      <td>1</td>\n",
       "      <td>1</td>\n",
       "      <td>0</td>\n",
       "      <td>0</td>\n",
       "    </tr>\n",
       "    <tr>\n",
       "      <th>2</th>\n",
       "      <td>Werder Bremen</td>\n",
       "      <td>Kaiserslautern</td>\n",
       "      <td>2.0</td>\n",
       "      <td>0.0</td>\n",
       "      <td>2.5788</td>\n",
       "      <td>1.0306</td>\n",
       "      <td>10.0</td>\n",
       "      <td>6.0</td>\n",
       "      <td>6.0</td>\n",
       "      <td>5.0</td>\n",
       "      <td>2.0</td>\n",
       "      <td>3.0</td>\n",
       "      <td>1.0</td>\n",
       "      <td>2.0</td>\n",
       "      <td>0.0</td>\n",
       "      <td>0.0</td>\n",
       "      <td>2</td>\n",
       "      <td>0</td>\n",
       "      <td>0</td>\n",
       "      <td>0</td>\n",
       "    </tr>\n",
       "    <tr>\n",
       "      <th>3</th>\n",
       "      <td>Paris Saint-Germain</td>\n",
       "      <td>Lorient</td>\n",
       "      <td>0.0</td>\n",
       "      <td>1.0</td>\n",
       "      <td>0.5509</td>\n",
       "      <td>0.8049</td>\n",
       "      <td>9.0</td>\n",
       "      <td>7.0</td>\n",
       "      <td>7.0</td>\n",
       "      <td>6.0</td>\n",
       "      <td>3.0</td>\n",
       "      <td>3.0</td>\n",
       "      <td>1.0</td>\n",
       "      <td>3.0</td>\n",
       "      <td>0.0</td>\n",
       "      <td>0.0</td>\n",
       "      <td>0</td>\n",
       "      <td>2</td>\n",
       "      <td>0</td>\n",
       "      <td>0</td>\n",
       "    </tr>\n",
       "    <tr>\n",
       "      <th>4</th>\n",
       "      <td>Caen</td>\n",
       "      <td>Valenciennes</td>\n",
       "      <td>1.0</td>\n",
       "      <td>0.0</td>\n",
       "      <td>0.7052</td>\n",
       "      <td>1.5982</td>\n",
       "      <td>9.0</td>\n",
       "      <td>9.0</td>\n",
       "      <td>3.0</td>\n",
       "      <td>11.0</td>\n",
       "      <td>2.0</td>\n",
       "      <td>2.0</td>\n",
       "      <td>2.0</td>\n",
       "      <td>1.0</td>\n",
       "      <td>0.0</td>\n",
       "      <td>0.0</td>\n",
       "      <td>2</td>\n",
       "      <td>0</td>\n",
       "      <td>0</td>\n",
       "      <td>0</td>\n",
       "    </tr>\n",
       "  </tbody>\n",
       "</table>\n",
       "</div>"
      ],
      "text/plain": [
       "              HomeTeam        AwayTeam  HomeGoals  AwayGoals  HomeXG  AwayXG  \\\n",
       "0    Borussia Dortmund      Hamburg SV        3.0        1.0  1.8354  0.4050   \n",
       "1          FC Augsburg     SC Freiburg        2.0        2.0  1.6848  0.5423   \n",
       "2        Werder Bremen  Kaiserslautern        2.0        0.0  2.5788  1.0306   \n",
       "3  Paris Saint-Germain         Lorient        0.0        1.0  0.5509  0.8049   \n",
       "4                 Caen    Valenciennes        1.0        0.0  0.7052  1.5982   \n",
       "\n",
       "   HomeShots  AwayShots  HomeCorners  AwayCorners  HomeSubs  AwaySubs  HomeYC  \\\n",
       "0       13.0        4.0          7.0          7.0       3.0       3.0     1.0   \n",
       "1       10.0        6.0          5.0          4.0       3.0       2.0     2.0   \n",
       "2       10.0        6.0          6.0          5.0       2.0       3.0     1.0   \n",
       "3        9.0        7.0          7.0          6.0       3.0       3.0     1.0   \n",
       "4        9.0        9.0          3.0         11.0       2.0       2.0     2.0   \n",
       "\n",
       "   AwayYC  HomeRC  AwayRC  HomeResult  AwayResult  HomeLastGame  AwayLastGame  \n",
       "0     3.0     0.0     0.0           2           0             0             0  \n",
       "1     4.0     0.0     0.0           1           1             0             0  \n",
       "2     2.0     0.0     0.0           2           0             0             0  \n",
       "3     3.0     0.0     0.0           0           2             0             0  \n",
       "4     1.0     0.0     0.0           2           0             0             0  "
      ]
     },
     "execution_count": 2,
     "metadata": {},
     "output_type": "execute_result"
    }
   ],
   "source": [
    "path = os.getcwd() + '/fullGamesWithResultsAndRecentGame.csv'\n",
    "data = pd.read_csv(path)\n",
    "data.head()"
   ]
  },
  {
   "cell_type": "code",
   "execution_count": 3,
   "id": "6110f72d",
   "metadata": {},
   "outputs": [],
   "source": [
    "# Imports for Decision Tree and Random Forest\n",
    "from sklearn.model_selection import train_test_split\n",
    "from sklearn.metrics import confusion_matrix, classification_report\n",
    "\n",
    "from sklearn.tree import DecisionTreeClassifier\n",
    "from sklearn.ensemble import RandomForestClassifier"
   ]
  },
  {
   "cell_type": "code",
   "execution_count": 4,
   "id": "15ed52e1",
   "metadata": {},
   "outputs": [],
   "source": [
    "# Going to break into two datasets, one for home goal stuff, and one for away goal stuff\n",
    "\n",
    "home = data[[ 'HomeTeam','HomeXG', 'HomeShots', 'HomeCorners', 'HomeSubs', 'HomeYC', 'HomeRC', 'HomeLastGame', 'HomeGoals']]\n",
    "away = data[[ 'AwayTeam','AwayXG', 'AwayShots', 'AwayCorners', 'AwaySubs', 'AwayYC', 'AwayRC', 'AwayLastGame', 'AwayGoals']]"
   ]
  },
  {
   "cell_type": "code",
   "execution_count": 5,
   "id": "b6ff935e",
   "metadata": {},
   "outputs": [],
   "source": [
    "# Split into training and testing sets\n",
    "\n",
    "trainHome, valHome = train_test_split(home, test_size=0.80, random_state=0)\n",
    "trainAway, valAway = train_test_split(away, test_size=0.80, random_state=0)"
   ]
  },
  {
   "cell_type": "code",
   "execution_count": 6,
   "id": "3c1020a6",
   "metadata": {},
   "outputs": [],
   "source": [
    "# Break training into X and Y\n",
    "cols = home.shape[1]\n",
    "trainHomeX = trainHome.iloc[:,1:cols-1] # iloc slicing function \n",
    "trainHomeY = trainHome.iloc[:,cols-1:cols]\n",
    "\n",
    "trainAwayX = trainAway.iloc[:,1:cols-1] # iloc slicing function \n",
    "trainAwayY = trainAway.iloc[:,cols-1:cols]"
   ]
  },
  {
   "cell_type": "code",
   "execution_count": 7,
   "id": "2d6fdefc",
   "metadata": {},
   "outputs": [],
   "source": [
    "# Break validation into X and Y\n",
    "cols = home.shape[1]\n",
    "valHomeX = valHome.iloc[:,1:cols-1] # iloc slicing function \n",
    "valHomeY = valHome.iloc[:,cols-1:cols]\n",
    "\n",
    "valAwayX = valAway.iloc[:,1:cols-1] # iloc slicing function \n",
    "valAwayY = valAway.iloc[:,cols-1:cols]"
   ]
  },
  {
   "cell_type": "markdown",
   "id": "228b13ff",
   "metadata": {},
   "source": [
    "Going to start by building a decision tree, seeing how that scores, and then building a forest."
   ]
  },
  {
   "cell_type": "code",
   "execution_count": 8,
   "id": "0be01f4b",
   "metadata": {},
   "outputs": [
    {
     "name": "stdout",
     "output_type": "stream",
     "text": [
      "0.2915977961432507\n"
     ]
    }
   ],
   "source": [
    "# Home Decision Tree\n",
    "homeDtc = DecisionTreeClassifier(random_state=0).fit(trainHomeX, trainHomeY)\n",
    "print(homeDtc.score(valHomeX, valHomeY))"
   ]
  },
  {
   "cell_type": "code",
   "execution_count": 9,
   "id": "aa0c2da2",
   "metadata": {},
   "outputs": [
    {
     "name": "stdout",
     "output_type": "stream",
     "text": [
      "0.3276859504132231\n"
     ]
    }
   ],
   "source": [
    "# Home Decision Tree\n",
    "awayDtc = DecisionTreeClassifier(random_state=0).fit(trainAwayX, trainAwayY)\n",
    "print(awayDtc.score(valAwayX, valAwayY))"
   ]
  },
  {
   "cell_type": "markdown",
   "id": "0b7e7d02",
   "metadata": {},
   "source": [
    "So the scores are meh, going to try creating random forests for both the home team and the away team."
   ]
  },
  {
   "cell_type": "code",
   "execution_count": 45,
   "id": "d7aee483",
   "metadata": {},
   "outputs": [
    {
     "name": "stdout",
     "output_type": "stream",
     "text": [
      "0.3216253443526171\n"
     ]
    }
   ],
   "source": [
    "homeForest = RandomForestClassifier(n_estimators=100).fit(trainHomeX, np.ravel(trainHomeY))\n",
    "print(homeForest.score(valHomeX, valHomeY))"
   ]
  },
  {
   "cell_type": "code",
   "execution_count": 46,
   "id": "174ea453",
   "metadata": {},
   "outputs": [
    {
     "name": "stdout",
     "output_type": "stream",
     "text": [
      "0.38154269972451793\n"
     ]
    }
   ],
   "source": [
    "awayForest = RandomForestClassifier(n_estimators=100).fit(trainAwayX, np.ravel(trainAwayY))\n",
    "print(awayForest.score(valAwayX, valAwayY))"
   ]
  },
  {
   "cell_type": "markdown",
   "id": "f3ef4438",
   "metadata": {},
   "source": [
    "Had slightly better results from the random forests than with the decision trees.\n",
    "\n",
    "Now going to try and predict the goal values and see how I did in predicting the results of games"
   ]
  },
  {
   "cell_type": "code",
   "execution_count": 47,
   "id": "e508a3cb",
   "metadata": {},
   "outputs": [],
   "source": [
    "predHome = homeForest.predict(valHomeX)\n",
    "predAway = awayForest.predict(valAwayX)\n",
    "\n",
    "# This outputs an array so want to convert it to a df"
   ]
  },
  {
   "cell_type": "code",
   "execution_count": 48,
   "id": "54321d42",
   "metadata": {},
   "outputs": [],
   "source": [
    "predHomedf = dfTeams = pd.DataFrame(predHome, columns = ['PredHomeGoals'])\n",
    "predAwaydf = dfTeams = pd.DataFrame(predAway, columns = ['PredAwayGoals'])"
   ]
  },
  {
   "cell_type": "code",
   "execution_count": 49,
   "id": "2930d72b",
   "metadata": {},
   "outputs": [],
   "source": [
    "# Reset all of the indexes\n",
    "valHomeX = valHomeX.reset_index(drop = True)\n",
    "valHomeY = valHomeY.reset_index(drop = True)\n",
    "\n",
    "valAwayX = valAwayX.reset_index(drop = True) \n",
    "valAwayY = valAwayY.reset_index(drop = True)"
   ]
  },
  {
   "cell_type": "code",
   "execution_count": 50,
   "id": "4a1869ad",
   "metadata": {},
   "outputs": [],
   "source": [
    "dfFullHome = pd.concat([valHomeX, valHomeY, predHomedf], axis = 1, join = 'inner')\n",
    "dfFullAway = pd.concat([valAwayX, valAwayY, predAwaydf], axis = 1, join = 'inner')\n",
    "\n",
    "dfBoth = pd.concat([dfFullHome, dfFullAway], axis = 1, join = 'inner')"
   ]
  },
  {
   "cell_type": "code",
   "execution_count": 42,
   "id": "ccf68f8a",
   "metadata": {},
   "outputs": [
    {
     "data": {
      "text/html": [
       "<div>\n",
       "<style scoped>\n",
       "    .dataframe tbody tr th:only-of-type {\n",
       "        vertical-align: middle;\n",
       "    }\n",
       "\n",
       "    .dataframe tbody tr th {\n",
       "        vertical-align: top;\n",
       "    }\n",
       "\n",
       "    .dataframe thead th {\n",
       "        text-align: right;\n",
       "    }\n",
       "</style>\n",
       "<table border=\"1\" class=\"dataframe\">\n",
       "  <thead>\n",
       "    <tr style=\"text-align: right;\">\n",
       "      <th></th>\n",
       "      <th>HomeXG</th>\n",
       "      <th>HomeShots</th>\n",
       "      <th>HomeCorners</th>\n",
       "      <th>HomeSubs</th>\n",
       "      <th>HomeYC</th>\n",
       "      <th>HomeRC</th>\n",
       "      <th>HomeLastGame</th>\n",
       "      <th>HomeGoals</th>\n",
       "      <th>PredHomeGoals</th>\n",
       "      <th>AwayXG</th>\n",
       "      <th>AwayShots</th>\n",
       "      <th>AwayCorners</th>\n",
       "      <th>AwaySubs</th>\n",
       "      <th>AwayYC</th>\n",
       "      <th>AwayRC</th>\n",
       "      <th>AwayLastGame</th>\n",
       "      <th>AwayGoals</th>\n",
       "      <th>PredAwayGoals</th>\n",
       "    </tr>\n",
       "  </thead>\n",
       "  <tbody>\n",
       "    <tr>\n",
       "      <th>0</th>\n",
       "      <td>1.2436</td>\n",
       "      <td>14.0</td>\n",
       "      <td>3.0</td>\n",
       "      <td>3.0</td>\n",
       "      <td>3.0</td>\n",
       "      <td>0.0</td>\n",
       "      <td>0</td>\n",
       "      <td>5.0</td>\n",
       "      <td>1.0</td>\n",
       "      <td>0.8794</td>\n",
       "      <td>9.0</td>\n",
       "      <td>6.0</td>\n",
       "      <td>2.0</td>\n",
       "      <td>4.0</td>\n",
       "      <td>0.0</td>\n",
       "      <td>0</td>\n",
       "      <td>3.0</td>\n",
       "      <td>1.0</td>\n",
       "    </tr>\n",
       "    <tr>\n",
       "      <th>1</th>\n",
       "      <td>0.7189</td>\n",
       "      <td>10.0</td>\n",
       "      <td>1.0</td>\n",
       "      <td>3.0</td>\n",
       "      <td>1.0</td>\n",
       "      <td>0.0</td>\n",
       "      <td>2</td>\n",
       "      <td>2.0</td>\n",
       "      <td>2.0</td>\n",
       "      <td>0.8211</td>\n",
       "      <td>7.0</td>\n",
       "      <td>4.0</td>\n",
       "      <td>3.0</td>\n",
       "      <td>1.0</td>\n",
       "      <td>0.0</td>\n",
       "      <td>0</td>\n",
       "      <td>0.0</td>\n",
       "      <td>0.0</td>\n",
       "    </tr>\n",
       "    <tr>\n",
       "      <th>2</th>\n",
       "      <td>1.0934</td>\n",
       "      <td>15.0</td>\n",
       "      <td>7.0</td>\n",
       "      <td>3.0</td>\n",
       "      <td>4.0</td>\n",
       "      <td>0.0</td>\n",
       "      <td>0</td>\n",
       "      <td>0.0</td>\n",
       "      <td>1.0</td>\n",
       "      <td>0.8675</td>\n",
       "      <td>7.0</td>\n",
       "      <td>3.0</td>\n",
       "      <td>3.0</td>\n",
       "      <td>3.0</td>\n",
       "      <td>0.0</td>\n",
       "      <td>2</td>\n",
       "      <td>0.0</td>\n",
       "      <td>1.0</td>\n",
       "    </tr>\n",
       "    <tr>\n",
       "      <th>3</th>\n",
       "      <td>1.0215</td>\n",
       "      <td>12.0</td>\n",
       "      <td>2.0</td>\n",
       "      <td>3.0</td>\n",
       "      <td>5.0</td>\n",
       "      <td>0.0</td>\n",
       "      <td>2</td>\n",
       "      <td>2.0</td>\n",
       "      <td>1.0</td>\n",
       "      <td>1.2658</td>\n",
       "      <td>12.0</td>\n",
       "      <td>8.0</td>\n",
       "      <td>3.0</td>\n",
       "      <td>3.0</td>\n",
       "      <td>0.0</td>\n",
       "      <td>0</td>\n",
       "      <td>0.0</td>\n",
       "      <td>2.0</td>\n",
       "    </tr>\n",
       "    <tr>\n",
       "      <th>4</th>\n",
       "      <td>1.4222</td>\n",
       "      <td>16.0</td>\n",
       "      <td>3.0</td>\n",
       "      <td>3.0</td>\n",
       "      <td>3.0</td>\n",
       "      <td>0.0</td>\n",
       "      <td>2</td>\n",
       "      <td>0.0</td>\n",
       "      <td>1.0</td>\n",
       "      <td>0.5097</td>\n",
       "      <td>4.0</td>\n",
       "      <td>1.0</td>\n",
       "      <td>3.0</td>\n",
       "      <td>3.0</td>\n",
       "      <td>0.0</td>\n",
       "      <td>2</td>\n",
       "      <td>0.0</td>\n",
       "      <td>1.0</td>\n",
       "    </tr>\n",
       "    <tr>\n",
       "      <th>...</th>\n",
       "      <td>...</td>\n",
       "      <td>...</td>\n",
       "      <td>...</td>\n",
       "      <td>...</td>\n",
       "      <td>...</td>\n",
       "      <td>...</td>\n",
       "      <td>...</td>\n",
       "      <td>...</td>\n",
       "      <td>...</td>\n",
       "      <td>...</td>\n",
       "      <td>...</td>\n",
       "      <td>...</td>\n",
       "      <td>...</td>\n",
       "      <td>...</td>\n",
       "      <td>...</td>\n",
       "      <td>...</td>\n",
       "      <td>...</td>\n",
       "      <td>...</td>\n",
       "    </tr>\n",
       "    <tr>\n",
       "      <th>7255</th>\n",
       "      <td>0.3163</td>\n",
       "      <td>3.0</td>\n",
       "      <td>7.0</td>\n",
       "      <td>3.0</td>\n",
       "      <td>2.0</td>\n",
       "      <td>0.0</td>\n",
       "      <td>2</td>\n",
       "      <td>1.0</td>\n",
       "      <td>0.0</td>\n",
       "      <td>0.7604</td>\n",
       "      <td>8.0</td>\n",
       "      <td>1.0</td>\n",
       "      <td>2.0</td>\n",
       "      <td>2.0</td>\n",
       "      <td>0.0</td>\n",
       "      <td>1</td>\n",
       "      <td>0.0</td>\n",
       "      <td>1.0</td>\n",
       "    </tr>\n",
       "    <tr>\n",
       "      <th>7256</th>\n",
       "      <td>1.4963</td>\n",
       "      <td>9.0</td>\n",
       "      <td>8.0</td>\n",
       "      <td>1.0</td>\n",
       "      <td>1.0</td>\n",
       "      <td>0.0</td>\n",
       "      <td>0</td>\n",
       "      <td>1.0</td>\n",
       "      <td>3.0</td>\n",
       "      <td>0.6661</td>\n",
       "      <td>8.0</td>\n",
       "      <td>1.0</td>\n",
       "      <td>3.0</td>\n",
       "      <td>2.0</td>\n",
       "      <td>0.0</td>\n",
       "      <td>0</td>\n",
       "      <td>1.0</td>\n",
       "      <td>2.0</td>\n",
       "    </tr>\n",
       "    <tr>\n",
       "      <th>7257</th>\n",
       "      <td>2.3369</td>\n",
       "      <td>13.0</td>\n",
       "      <td>9.0</td>\n",
       "      <td>3.0</td>\n",
       "      <td>0.0</td>\n",
       "      <td>0.0</td>\n",
       "      <td>2</td>\n",
       "      <td>5.0</td>\n",
       "      <td>4.0</td>\n",
       "      <td>0.4350</td>\n",
       "      <td>4.0</td>\n",
       "      <td>9.0</td>\n",
       "      <td>3.0</td>\n",
       "      <td>2.0</td>\n",
       "      <td>0.0</td>\n",
       "      <td>2</td>\n",
       "      <td>0.0</td>\n",
       "      <td>0.0</td>\n",
       "    </tr>\n",
       "    <tr>\n",
       "      <th>7258</th>\n",
       "      <td>1.3036</td>\n",
       "      <td>14.0</td>\n",
       "      <td>4.0</td>\n",
       "      <td>3.0</td>\n",
       "      <td>2.0</td>\n",
       "      <td>1.0</td>\n",
       "      <td>0</td>\n",
       "      <td>0.0</td>\n",
       "      <td>1.0</td>\n",
       "      <td>2.0994</td>\n",
       "      <td>11.0</td>\n",
       "      <td>5.0</td>\n",
       "      <td>3.0</td>\n",
       "      <td>1.0</td>\n",
       "      <td>0.0</td>\n",
       "      <td>1</td>\n",
       "      <td>1.0</td>\n",
       "      <td>2.0</td>\n",
       "    </tr>\n",
       "    <tr>\n",
       "      <th>7259</th>\n",
       "      <td>1.7290</td>\n",
       "      <td>9.0</td>\n",
       "      <td>8.0</td>\n",
       "      <td>1.0</td>\n",
       "      <td>2.0</td>\n",
       "      <td>0.0</td>\n",
       "      <td>0</td>\n",
       "      <td>0.0</td>\n",
       "      <td>3.0</td>\n",
       "      <td>0.8484</td>\n",
       "      <td>10.0</td>\n",
       "      <td>0.0</td>\n",
       "      <td>1.0</td>\n",
       "      <td>2.0</td>\n",
       "      <td>2.0</td>\n",
       "      <td>2</td>\n",
       "      <td>0.0</td>\n",
       "      <td>0.0</td>\n",
       "    </tr>\n",
       "  </tbody>\n",
       "</table>\n",
       "<p>7260 rows × 18 columns</p>\n",
       "</div>"
      ],
      "text/plain": [
       "      HomeXG  HomeShots  HomeCorners  HomeSubs  HomeYC  HomeRC  HomeLastGame  \\\n",
       "0     1.2436       14.0          3.0       3.0     3.0     0.0             0   \n",
       "1     0.7189       10.0          1.0       3.0     1.0     0.0             2   \n",
       "2     1.0934       15.0          7.0       3.0     4.0     0.0             0   \n",
       "3     1.0215       12.0          2.0       3.0     5.0     0.0             2   \n",
       "4     1.4222       16.0          3.0       3.0     3.0     0.0             2   \n",
       "...      ...        ...          ...       ...     ...     ...           ...   \n",
       "7255  0.3163        3.0          7.0       3.0     2.0     0.0             2   \n",
       "7256  1.4963        9.0          8.0       1.0     1.0     0.0             0   \n",
       "7257  2.3369       13.0          9.0       3.0     0.0     0.0             2   \n",
       "7258  1.3036       14.0          4.0       3.0     2.0     1.0             0   \n",
       "7259  1.7290        9.0          8.0       1.0     2.0     0.0             0   \n",
       "\n",
       "      HomeGoals  PredHomeGoals  AwayXG  AwayShots  AwayCorners  AwaySubs  \\\n",
       "0           5.0            1.0  0.8794        9.0          6.0       2.0   \n",
       "1           2.0            2.0  0.8211        7.0          4.0       3.0   \n",
       "2           0.0            1.0  0.8675        7.0          3.0       3.0   \n",
       "3           2.0            1.0  1.2658       12.0          8.0       3.0   \n",
       "4           0.0            1.0  0.5097        4.0          1.0       3.0   \n",
       "...         ...            ...     ...        ...          ...       ...   \n",
       "7255        1.0            0.0  0.7604        8.0          1.0       2.0   \n",
       "7256        1.0            3.0  0.6661        8.0          1.0       3.0   \n",
       "7257        5.0            4.0  0.4350        4.0          9.0       3.0   \n",
       "7258        0.0            1.0  2.0994       11.0          5.0       3.0   \n",
       "7259        0.0            3.0  0.8484       10.0          0.0       1.0   \n",
       "\n",
       "      AwayYC  AwayRC  AwayLastGame  AwayGoals  PredAwayGoals  \n",
       "0        4.0     0.0             0        3.0            1.0  \n",
       "1        1.0     0.0             0        0.0            0.0  \n",
       "2        3.0     0.0             2        0.0            1.0  \n",
       "3        3.0     0.0             0        0.0            2.0  \n",
       "4        3.0     0.0             2        0.0            1.0  \n",
       "...      ...     ...           ...        ...            ...  \n",
       "7255     2.0     0.0             1        0.0            1.0  \n",
       "7256     2.0     0.0             0        1.0            2.0  \n",
       "7257     2.0     0.0             2        0.0            0.0  \n",
       "7258     1.0     0.0             1        1.0            2.0  \n",
       "7259     2.0     2.0             2        0.0            0.0  \n",
       "\n",
       "[7260 rows x 18 columns]"
      ]
     },
     "execution_count": 42,
     "metadata": {},
     "output_type": "execute_result"
    }
   ],
   "source": [
    "dfBoth"
   ]
  },
  {
   "cell_type": "markdown",
   "id": "2278ed1e",
   "metadata": {},
   "source": [
    "Now going to see how well the model performed"
   ]
  },
  {
   "cell_type": "code",
   "execution_count": 51,
   "id": "ac84943b",
   "metadata": {},
   "outputs": [],
   "source": [
    "corHomeGoals = 0\n",
    "corAwayGoals = 0\n",
    "corResults = 0\n",
    "equalRaw = 0\n",
    "totalDraws = 0\n",
    "\n",
    "for i in range(dfBoth.shape[0]):\n",
    "    # Check if goals were predicted correctly\n",
    "    if(dfBoth['HomeGoals'][i] == dfBoth['PredHomeGoals'][i]):\n",
    "        corHomeGoals += 1\n",
    "    if(dfBoth['AwayGoals'][i] == dfBoth['PredAwayGoals'][i]):\n",
    "        corAwayGoals += 1\n",
    "        \n",
    "    # Check results with predicted goal values \n",
    "    if((dfBoth['HomeGoals'][i] == dfBoth['AwayGoals'][i]) & (dfBoth['PredHomeGoals'][i] == dfBoth['PredAwayGoals'][i])):\n",
    "        corResults += 1\n",
    "    if((dfBoth['HomeGoals'][i] < dfBoth['AwayGoals'][i]) & (dfBoth['PredHomeGoals'][i] < dfBoth['PredAwayGoals'][i])):\n",
    "        corResults += 1\n",
    "    if((dfBoth['HomeGoals'][i] > dfBoth['AwayGoals'][i]) & (dfBoth['PredHomeGoals'][i] > dfBoth['PredAwayGoals'][i])):\n",
    "        corResults += 1\n",
    "    \n",
    "    # Get total Draws\n",
    "    if(dfBoth['HomeGoals'][i] == dfBoth['AwayGoals'][i]):\n",
    "        totalDraws += 1"
   ]
  },
  {
   "cell_type": "code",
   "execution_count": 52,
   "id": "a877c70c",
   "metadata": {},
   "outputs": [
    {
     "name": "stdout",
     "output_type": "stream",
     "text": [
      "2335\n",
      "2770\n",
      "3496\n"
     ]
    }
   ],
   "source": [
    "print(corHomeGoals)\n",
    "print(corAwayGoals)\n",
    "print(corResults)"
   ]
  },
  {
   "cell_type": "code",
   "execution_count": 35,
   "id": "8034cda6",
   "metadata": {},
   "outputs": [
    {
     "name": "stdout",
     "output_type": "stream",
     "text": [
      "Results: \n",
      "Home Goal Proportion:  0.328099173553719\n",
      "Away Goal Proportion:  0.38732782369146007\n",
      "Overall Goal Proportion:  0.35771349862258955\n",
      "Correct Result Proportion:  0.4829201101928375\n"
     ]
    }
   ],
   "source": [
    "print(\"Results: \")\n",
    "print(\"Home Goal Proportion: \" , corHomeGoals / dfBoth.shape[0])\n",
    "print(\"Away Goal Proportion: \" , corAwayGoals / dfBoth.shape[0])\n",
    "print(\"Overall Goal Proportion: \" , (corHomeGoals + corAwayGoals) / (2 * dfBoth.shape[0]))\n",
    "print(\"Correct Result Proportion: \" , corResults / dfBoth.shape[0])"
   ]
  },
  {
   "cell_type": "markdown",
   "id": "7fa250b1",
   "metadata": {},
   "source": [
    "Going to try and make a visualization"
   ]
  },
  {
   "cell_type": "code",
   "execution_count": 20,
   "id": "c21d5604",
   "metadata": {},
   "outputs": [],
   "source": [
    "actualWins = 0\n",
    "actualDraws = 0\n",
    "actualLosses = 0\n",
    "\n",
    "predWins = 0\n",
    "predDraws = 0\n",
    "predLosses = 0\n",
    "\n",
    "\n",
    "for i in range(dfBoth.shape[0]):\n",
    "    # Get totals for actual results\n",
    "    if(dfBoth['HomeGoals'][i] < dfBoth['AwayGoals'][i]):\n",
    "        actualLosses += 1\n",
    "    if(dfBoth['HomeGoals'][i] == dfBoth['AwayGoals'][i]):\n",
    "        actualDraws += 1\n",
    "    if(dfBoth['HomeGoals'][i] > dfBoth['AwayGoals'][i]):\n",
    "        actualWins += 1\n",
    "    \n",
    "    # Get totals for predicted results\n",
    "    if(dfBoth['PredHomeGoals'][i] < dfBoth['PredAwayGoals'][i]):\n",
    "        predLosses += 1\n",
    "    if(dfBoth['PredHomeGoals'][i] == dfBoth['PredAwayGoals'][i]):\n",
    "        predDraws += 1\n",
    "    if(dfBoth['PredHomeGoals'][i] > dfBoth['PredAwayGoals'][i]):\n",
    "        predWins += 1\n"
   ]
  },
  {
   "cell_type": "code",
   "execution_count": 21,
   "id": "0f2b25e0",
   "metadata": {},
   "outputs": [],
   "source": [
    "import matplotlib.pyplot as plt"
   ]
  },
  {
   "cell_type": "code",
   "execution_count": 22,
   "id": "b6372fce",
   "metadata": {},
   "outputs": [
    {
     "data": {
      "image/png": "[encoded data removed]",
      "text/plain": [
       "<Figure size 432x288 with 1 Axes>"
      ]
     },
     "metadata": {
      "needs_background": "light"
     },
     "output_type": "display_data"
    }
   ],
   "source": [
    "x = np.array(['Actual Wins', 'Predicted Goal Wins'])\n",
    "y = np.array([actualWins, predWins])\n",
    "\n",
    "plt.bar(x, y)\n",
    "plt.ylim([0,5000])\n",
    "plt.show()"
   ]
  },
  {
   "cell_type": "code",
   "execution_count": 23,
   "id": "3113981b",
   "metadata": {},
   "outputs": [
    {
     "data": {
      "image/png": "[encoded data removed]",
      "text/plain": [
       "<Figure size 432x288 with 1 Axes>"
      ]
     },
     "metadata": {
      "needs_background": "light"
     },
     "output_type": "display_data"
    }
   ],
   "source": [
    "x = np.array(['Actual Draws', 'Predicted Goal Draws'])\n",
    "y = np.array([actualDraws, predDraws])\n",
    "\n",
    "plt.bar(x, y)\n",
    "plt.ylim([0,5000])\n",
    "plt.show()"
   ]
  },
  {
   "cell_type": "code",
   "execution_count": 24,
   "id": "9005e22b",
   "metadata": {},
   "outputs": [
    {
     "data": {
      "image/png": "[encoded data removed]",
      "text/plain": [
       "<Figure size 432x288 with 1 Axes>"
      ]
     },
     "metadata": {
      "needs_background": "light"
     },
     "output_type": "display_data"
    }
   ],
   "source": [
    "x = np.array(['Actual Losses', 'Predicted Goal Losses'])\n",
    "y = np.array([actualLosses, predLosses])\n",
    "\n",
    "plt.bar(x, y)\n",
    "plt.ylim([0,5000])\n",
    "plt.show()"
   ]
  }
 ],
 "metadata": {
  "kernelspec": {
   "display_name": "Python 3 (ipykernel)",
   "language": "python",
   "name": "python3"
  },
  "language_info": {
   "codemirror_mode": {
    "name": "ipython",
    "version": 3
   },
   "file_extension": ".py",
   "mimetype": "text/x-python",
   "name": "python",
   "nbconvert_exporter": "python",
   "pygments_lexer": "ipython3",
   "version": "3.10.2"
  }
 },
 "nbformat": 4,
 "nbformat_minor": 5
}
